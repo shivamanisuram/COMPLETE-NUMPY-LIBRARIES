{
  "nbformat": 4,
  "nbformat_minor": 0,
  "metadata": {
    "colab": {
      "provenance": [],
      "authorship_tag": "ABX9TyMBPh+y/9RTyATdfzQyobOc",
      "include_colab_link": true
    },
    "kernelspec": {
      "name": "python3",
      "display_name": "Python 3"
    },
    "language_info": {
      "name": "python"
    }
  },
  "cells": [
    {
      "cell_type": "markdown",
      "metadata": {
        "id": "view-in-github",
        "colab_type": "text"
      },
      "source": [
        "<a href=\"https://colab.research.google.com/github/shivamanisuram/VECTOR-OPERATIONS-IN-ML/blob/main/vector_operations_part_2.ipynb\" target=\"_parent\"><img src=\"https://colab.research.google.com/assets/colab-badge.svg\" alt=\"Open In Colab\"/></a>"
      ]
    },
    {
      "cell_type": "code",
      "execution_count": 2,
      "metadata": {
        "id": "C9wwWaRCD0Nv"
      },
      "outputs": [],
      "source": [
        "import numpy as np\n",
        "import pandas as pd\n",
        "\n"
      ]
    },
    {
      "cell_type": "code",
      "source": [
        "#dot product of 2 vectors:\n",
        "a=np.array([2,3])\n",
        "b=np.array([4,5])\n",
        "a_dot_b=np.dot(a,b)"
      ],
      "metadata": {
        "id": "bX-MZQszD6lk"
      },
      "execution_count": 4,
      "outputs": []
    },
    {
      "cell_type": "code",
      "source": [
        "print(a_dot_b)"
      ],
      "metadata": {
        "colab": {
          "base_uri": "https://localhost:8080/"
        },
        "id": "6patUOMeED64",
        "outputId": "22ed82b1-9f3a-4979-d3f2-7e117d8bbdc8"
      },
      "execution_count": 5,
      "outputs": [
        {
          "output_type": "stream",
          "name": "stdout",
          "text": [
            "23\n"
          ]
        }
      ]
    },
    {
      "cell_type": "code",
      "source": [
        "c=np.array([40,20,35])\n",
        "d=np.array([53,24,68])\n",
        "c_dot_d=np.dot(c,d)"
      ],
      "metadata": {
        "id": "SkGT5RSMEXXg"
      },
      "execution_count": 6,
      "outputs": []
    },
    {
      "cell_type": "code",
      "source": [
        "print(c_dot_d)"
      ],
      "metadata": {
        "colab": {
          "base_uri": "https://localhost:8080/"
        },
        "id": "MDFi9VKXEiMX",
        "outputId": "ec64da51-b154-403e-ef91-c7058ce40d7f"
      },
      "execution_count": 7,
      "outputs": [
        {
          "output_type": "stream",
          "name": "stdout",
          "text": [
            "4980\n"
          ]
        }
      ]
    },
    {
      "cell_type": "markdown",
      "source": [
        "cross product of 2 vectors"
      ],
      "metadata": {
        "id": "pp8O6WLFEpLJ"
      }
    },
    {
      "cell_type": "code",
      "source": [
        "a=np.array([2,3])\n",
        "b=np.array([4,5])\n",
        "a_cross_b=np.cross(a,b)"
      ],
      "metadata": {
        "id": "eIeQshrHEr5x"
      },
      "execution_count": 9,
      "outputs": []
    },
    {
      "cell_type": "code",
      "source": [
        "print(a_cross_b)"
      ],
      "metadata": {
        "colab": {
          "base_uri": "https://localhost:8080/"
        },
        "id": "JwoqDzhKEkb_",
        "outputId": "f9581a08-18af-4369-85a3-e28650dd5c4a"
      },
      "execution_count": 10,
      "outputs": [
        {
          "output_type": "stream",
          "name": "stdout",
          "text": [
            "-2\n"
          ]
        }
      ]
    },
    {
      "cell_type": "code",
      "source": [
        "c=np.array([5,10,20])\n",
        "d=np.array([18,32,50])\n",
        "c_cross_d=np.cross(c,d)"
      ],
      "metadata": {
        "id": "PD0jRmAkE3vT"
      },
      "execution_count": 11,
      "outputs": []
    },
    {
      "cell_type": "code",
      "source": [
        "c_cross_d"
      ],
      "metadata": {
        "colab": {
          "base_uri": "https://localhost:8080/"
        },
        "id": "jaIwdMyYFKOD",
        "outputId": "efbdfa8c-a325-4b7d-8583-810d4ab5a0f8"
      },
      "execution_count": 12,
      "outputs": [
        {
          "output_type": "execute_result",
          "data": {
            "text/plain": [
              "array([-140,  110,  -20])"
            ]
          },
          "metadata": {},
          "execution_count": 12
        }
      ]
    },
    {
      "cell_type": "markdown",
      "source": [
        "projection of \"a\" vector on \"v\" vector"
      ],
      "metadata": {
        "id": "-0MaFKbTFRmS"
      }
    },
    {
      "cell_type": "code",
      "source": [
        "a=np.array([2,5])\n",
        "v=np.array([8,-6])\n",
        "magnitude_of_v=np.sqrt(sum(v**2))\n",
        "projection_of_a_on_v=(np.dot(a,v)/magnitude_of_v**2)*v"
      ],
      "metadata": {
        "id": "4YolxJ9vFY_G"
      },
      "execution_count": 21,
      "outputs": []
    },
    {
      "cell_type": "code",
      "source": [
        "projection_of_a_on_v"
      ],
      "metadata": {
        "colab": {
          "base_uri": "https://localhost:8080/"
        },
        "id": "ph61UNxAFMWM",
        "outputId": "393771db-fcc5-4598-87f7-1435eb82f6ce"
      },
      "execution_count": 22,
      "outputs": [
        {
          "output_type": "execute_result",
          "data": {
            "text/plain": [
              "array([-1.12,  0.84])"
            ]
          },
          "metadata": {},
          "execution_count": 22
        }
      ]
    },
    {
      "cell_type": "code",
      "source": [],
      "metadata": {
        "id": "wFMon-xTGKss"
      },
      "execution_count": null,
      "outputs": []
    }
  ]
}